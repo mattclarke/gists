{
 "cells": [
  {
   "cell_type": "code",
   "execution_count": 1,
   "id": "1aac3975-f9a9-4c5a-b583-fd61a7df9174",
   "metadata": {},
   "outputs": [],
   "source": [
    "# pip install ipympl matplotlib\n",
    "%matplotlib widget\n",
    "import socket\n",
    "import uuid\n",
    "import struct\n",
    "import pickle\n",
    "import rsa\n",
    "import datetime\n",
    "import time\n",
    "from base64 import b64decode, b64encode\n",
    "\n",
    "DAEMON_COMMANDS = {\n",
    "    # script control commands\n",
    "    'start':          0x01,\n",
    "    'simulate':       0x02,\n",
    "    'queue':          0x03,\n",
    "    'unqueue':        0x04,\n",
    "    'update':         0x05,\n",
    "    # script flow commands\n",
    "    'break':          0x11,\n",
    "    'continue':       0x12,\n",
    "    'stop':           0x13,\n",
    "    'emergency':      0x14,\n",
    "    'finish':         0x15,\n",
    "    # async execution commands\n",
    "    'exec':           0x21,\n",
    "    'eval':           0x22,\n",
    "    # watch variable commands\n",
    "    'watch':          0x31,\n",
    "    'unwatch':        0x32,\n",
    "    # enquiries\n",
    "    'getversion':     0x41,\n",
    "    'getstatus':      0x42,\n",
    "    'getmessages':    0x43,\n",
    "    'getscript':      0x44,\n",
    "    'gethistory':     0x45,\n",
    "    'getcachekeys':   0x46,\n",
    "    'gettrace':       0x47,\n",
    "    'getdataset':     0x48,\n",
    "    # miscellaneous commands\n",
    "    'complete':       0x51,\n",
    "    'transfer':       0x52,\n",
    "    'debug':          0x53,\n",
    "    'debuginput':     0x54,\n",
    "    # connection related commands\n",
    "    'eventmask':      0x61,\n",
    "    'unlock':         0x62,\n",
    "    'quit':           0x63,\n",
    "    'authenticate':   0x64,  # only used during handshake\n",
    "    'eventunmask':    0x65,\n",
    "    'rearrange':      0x66,\n",
    "    'keepalive':      0x67,\n",
    "}\n",
    "\n",
    "HOST = \"localhost\"\n",
    "PORT = 3389\n",
    "\n",
    "ENQ = b'\\x05'\n",
    "LENGTH = struct.Struct('>I')\n",
    "READ_BUFSIZE = 4096"
   ]
  },
  {
   "cell_type": "code",
   "execution_count": 2,
   "id": "c6d5517e-a377-42d7-b593-40f3138b426d",
   "metadata": {},
   "outputs": [],
   "source": [
    "class Client:\n",
    "    def __init__(self):\n",
    "        self._socket = socket.socket(socket.AF_INET, socket.SOCK_STREAM)\n",
    "        self._socket.connect((HOST, PORT))\n",
    "        self._socket.setsockopt(socket.SOL_SOCKET, socket.SO_KEEPALIVE, 1)\n",
    "        self.rsakey = None\n",
    "\n",
    "    def connect(self):\n",
    "        client_id = uuid.uuid1().bytes\n",
    "        self._socket.sendall(client_id)\n",
    "        buf = self.recv_reply()\n",
    "        banner = pickle.loads(buf, encoding='latin1')\n",
    "        self.rsakey = banner.get('rsakey', None)\n",
    "        return banner\n",
    "        \n",
    "    def recv_reply(self):\n",
    "        # receive first byte + (possibly) length\n",
    "        start = b''\n",
    "        while len(start) < 5:\n",
    "            data = self._socket.recv(5 - len(start))\n",
    "            start += data\n",
    "        # it has a length...\n",
    "        length, = LENGTH.unpack(start[1:])\n",
    "        buf = b''\n",
    "        while len(buf) < length:\n",
    "            read = self._socket.recv(READ_BUFSIZE)\n",
    "            buf += read\n",
    "        return buf\n",
    "    \n",
    "    def ask(self, command, *args, **kwargs):\n",
    "        command = DAEMON_COMMANDS.get(command, None)\n",
    "        if command:\n",
    "            cmd = struct.Struct('>H').pack(command)\n",
    "        else:\n",
    "            raise RuntimeError(\"Unrecognised command\")\n",
    "        a = pickle.dumps(args, 2)\n",
    "        self._socket.sendall(ENQ + cmd + LENGTH.pack(len(a)) + a)\n",
    "        data = self.recv_reply()\n",
    "        return pickle.loads(data, encoding='latin1')\n",
    "\n",
    "    def tell(self, command, *args):\n",
    "        result = self.ask(command, *args)\n",
    "        print(self.ask('getmessages'))\n",
    "        print(result)\n",
    "        print(\"done\")\n",
    "    \n",
    "    def eval(self, statement):\n",
    "        return self.ask('eval', statement, False, quiet=True, default=Ellipsis)\n",
    "\n",
    "    def run(self, code):\n",
    "        req_id = self.ask('start', '', code)\n",
    "        return req_id        \n",
    "\n",
    "    def login(self, user, password):\n",
    "        pubkey = rsa.PublicKey.load_pkcs1(b64decode(self.rsakey))\n",
    "        password = rsa.encrypt(password.encode(), pubkey)\n",
    "        password = 'RSA:' + b64encode(password).decode()\n",
    "        credentials = {\n",
    "            'login': user,\n",
    "            'passwd': password,\n",
    "            'display': '',\n",
    "        }\n",
    "        return self.ask('authenticate', credentials)"
   ]
  },
  {
   "cell_type": "code",
   "execution_count": 3,
   "id": "be67fe2f-8fba-4667-ac0a-fb7825418a67",
   "metadata": {},
   "outputs": [
    {
     "name": "stdout",
     "output_type": "stream",
     "text": [
      "{'daemon_version': '3.8.8.post2154+gd5ed6', 'custom_version': '3.8.8.post2154+gd5ed6', 'nicos_root': '/ess/ecdc/nicos-core', 'custom_path': '/ess/ecdc/nicos-core/nicos_ess', 'pw_hashing': 'rsa,plain', 'rsakey': b'LS0tLS1CRUdJTiBSU0EgUFVCTElDIEtFWS0tLS0tCk1FZ0NRUUNTYjVNUS9iSXlMMjhsSk5YeVpXWGpRWkoyZDZuUVo1a3R1bW1WTmFhWENyditGbWVYVjd1UnRpTkwKakFwb0ZkQnRlYUNuSlM4SldRS2RIV2VjZGFBVkFnTUJBQUU9Ci0tLS0tRU5EIFJTQSBQVUJMSUMgS0VZLS0tLS0K', 'protocol_version': 23, 'serializer': 'classic'}\n",
      "{'user_level': 0}\n"
     ]
    }
   ],
   "source": [
    "client = Client()\n",
    "banner = client.connect()\n",
    "print(banner)\n",
    "response = client.login(\"guest\", \"\")\n",
    "print(response)"
   ]
  },
  {
   "cell_type": "code",
   "execution_count": 4,
   "id": "38f0af95-e3be-442a-b663-814dee7142c2",
   "metadata": {},
   "outputs": [
    {
     "name": "stdout",
     "output_type": "stream",
     "text": [
      "name 'mY' is not defined\n"
     ]
    }
   ],
   "source": [
    "response = client.eval(\"mY.read()\")\n",
    "print(response)"
   ]
  },
  {
   "cell_type": "code",
   "execution_count": 5,
   "id": "6a78cdb5-8d53-49d2-81fa-cc615f4b04c3",
   "metadata": {},
   "outputs": [],
   "source": [
    "def get_history(device, start, end, interval=2.0):\n",
    "    raw = client.ask('gethistory', device, start, end, 2.0)\n",
    "    t = [datetime.datetime.fromtimestamp(x) for (x, _) in raw]\n",
    "    v = [y for (_, y) in raw]\n",
    "    return (t, v)\n",
    "\n",
    "import time\n",
    "my_history = get_history('camera_box_motor/value', 1690878499.473055, time.time())\n"
   ]
  },
  {
   "cell_type": "code",
   "execution_count": 6,
   "id": "3e32f483-c156-44b6-a6e7-41afa7c8735f",
   "metadata": {},
   "outputs": [
    {
     "data": {
      "application/vnd.jupyter.widget-view+json": {
       "model_id": "fd97cc42b98840fcbbdb599f101656f6",
       "version_major": 2,
       "version_minor": 0
      },
      "image/png": "[encoded data removed]",
      "text/html": [
       "\n",
       "            <div style=\"display: inline-block;\">\n",
       "                <div class=\"jupyter-widgets widget-label\" style=\"text-align: center;\">\n",
       "                    Figure\n",
       "                </div>\n",
       "                <img src='data:image/png;base64,iVBORw0KGgoAAAANSUhEUgAAAoAAAAHgCAYAAAA10dzkAAAAOXRFWHRTb2Z0d2FyZQBNYXRwbG90bGliIHZlcnNpb24zLjcuMiwgaHR0cHM6Ly9tYXRwbG90bGliLm9yZy8pXeV/AAAACXBIWXMAAA9hAAAPYQGoP6dpAABYQklEQVR4nO3deXzUxeH/8fduTgIECFeIhEMQBFQEVEy9QAmXRa1YD1CwVbFVoZJ6/OgPRbAt6Nfboq39KXhwWPv1qKjIDR6AAqICChJAkNNyBQiETXZ+f0A2u8ludjfsbj772dfz8aDsfnYyOzus5c3MZ2YcxhgjAAAAJAxnbTcAAAAAsUUABAAASDAEQAAAgARDAAQAAEgwBEAAAIAEQwAEAABIMARAAACABEMABAAASDAEQAAAgARDAAQAAEgwBEAAAIAEQwAEAABIMARAAACABEMABAAASDAEQAAAgARDAAQAAEgwBEAAAIAEQwAEAABIMARAAACABEMABAAASDAEQAAAgARDAAQAAEgwBEAAAIAEQwAEAABIMARAAACABEMABAAASDAEQAAAgARDAAQAAEgwBEAAAIAEQwAEAABIMARAAACABEMABAAASDAEQAAAgARDAAQAAEgwBEAACaVNmzb65S9/GbTcokWL5HA4tGjRoug3CgBijAAIIG5MmjRJDodDH3/8sd/XBw4cqAYNGmjHjh0xblmFv/71r3r33Xdr7f0BIBQOY4yp7UYAQChcLpd69OihI0eOaM2aNapTp47ntbfeekvXX3+9Jk+erLvuuitgHW3atNFZZ52lWbNmVftebrdbx48fV2pqqpzO0P+tXK9ePV133XWaOnVqyD8DALHGCCCAuJGSkqKXXnpJW7Zs0aOPPuq5fujQId1777268MIL9bvf/S4i7+V0OpWenh5W+IuWI0eO1HYTANhM7f8/G4CE8sgjj8jhcGjDhg26+eab1aBBAzVt2lQPPfSQjDHatm2brr76amVmZio7O1tPPvmkz8+Xh7wnnnhC69atkySNHTtWe/bs0UsvvRRyYPv00091wQUXKD09Xaeffrpee+01n9f93QP4ww8/aPDgwcrOzlZ6erpatmypG2+8UQcPHpQkORwOHTlyRK+++qocDoccDoduvfVWz89/9dVXGjBggDIzM1WvXj1dccUVWrZsmc/7Tp06VQ6HQ4sXL9Zdd92lZs2aqWXLllq4cKEcDofeeeedKp9l+vTpcjgcWrp0aUifHQAIgABqxQ033CC3261JkyapZ8+e+vOf/6xnnnlG+fn5Ou200/TYY4+pffv2uu+++7RkyRKfn504caKaNm2qO++8UytXrtTkyZN133336eyzzw7pvTdu3KjrrrtO+fn5evLJJ9WoUSPdeuutWrt2bcCfOX78uPr166dly5Zp5MiRmjx5skaMGKFNmzbpwIEDkqTXX39daWlpuuSSS/T666/r9ddf15133ilJWrt2rS655BJ9/fXXeuCBB/TQQw9p8+bN6tWrl5YvX17l/e666y6tW7dODz/8sP7P//k/6tWrl3JzczVt2rQqZadNm6Z27dopLy8vpM8PADIAEEPjxo0zksyIESM810pLS03Lli2Nw+EwkyZN8lzfv3+/qVOnjhk+fHiVev79738bSSYrK8ucfvrppri4OKT3b926tZFklixZ4rm2Z88ek5aWZv74xz96ri1cuNBIMgsXLjTGGPPVV18ZSeatt96qtv66dev6be8111xjUlNTTWFhoefajh07TP369c2ll17quTZlyhQjyVx88cWmtLTUp44xY8aYtLQ0c+DAAZ+2Jycnm3HjxoXy8QHAGGMMI4AAasXtt9/ueZyUlKTzzjtPxhjddtttnusNGzZUx44dtWnTpio/P3jwYA0cOFD79u3T5MmTfRaEBNO5c2ddcsklnudNmzYN+D7lGjRoIEn6+OOPVVxcHPJ7SVJZWZnmzJmja665RqeffrrneosWLTRkyBB9+umnKioq8vmZO+64Q0lJST7Xhg0bppKSEv373//2XHvzzTdVWlqqm2++Oaw2AUhsBEAAtaJVq1Y+zxs0aKD09HQ1adKkyvX9+/f7reP888+XJJ133nmn9N6S1KhRo4DvI0lt27ZVQUGB/t//+39q0qSJ+vXrp8mTJ3vu/6vOzz//rOLiYnXs2LHKa506dZLb7da2bduqvF9lZ555ps4//3yfaeBp06bpwgsvVPv27YO2AwDKEQAB1IrKo1uBrkmSifBuVTV9nyeffFLffPON/vSnP+no0aMaNWqUunTpop9++imi7ZMUcERz2LBhWrx4sX766ScVFhZq2bJljP4BCBsBEADCcPbZZ2vs2LFasmSJPvnkE23fvl1///vfPa87HI4qP9O0aVNlZGRo/fr1VV77/vvv5XQ6lZubG9L733jjjUpKStKMGTM0bdo0paSk6IYbbqj5BwKQkJJruwEAEA+KioqUkZGh5OSK/9s8++yz5XQ6VVJS4rlWt25dz6rgcklJSerbt6/ee+89bdmyRW3atJEk7d69W9OnT9fFF1+szMzMkNrRpEkTDRgwQG+88YaOHTum/v37V5k2B4BgCIAAEIIFCxbonnvu0a9//Wt16NBBpaWlev3115WUlKTBgwd7yvXo0UPz5s3TU089pZycHLVt29azzc3cuXN18cUX66677lJycrL+8Y9/qKSkRI8//nhYbRk2bJiuu+46SfLZEBsAQkUABIAQdO3aVf369dP777+v7du3KyMjQ127dtVHH32kCy+80FPuqaee0ogRIzR27FgdPXpUw4cPV8+ePdWlSxd98sknGjNmjCZOnCi3262ePXvqjTfeUM+ePcNqy6BBg9SoUSO53W5dddVVkf6oABIAZwEDQJwpLS1VTk6OBg0apJdffrm2mwMgDrEIBADizLvvvquff/5Zw4YNq+2mAIhTjAACQJxYvny5vvnmGz366KNq0qSJVq1aVdtNAhCnGAEEgDjx4osv6ve//72aNWum1157rbabAyCOMQIIAACQYBgBBAAASDAEQAAAgARDAAQAAEgwbAR9Ctxut3bs2KH69ev7Pf8TAABYjzFGhw4dUk5OjpzOxBwLIwCegh07doR8gDsAALCWbdu2qWXLlrXdjFpBADwF9evXl3TiCxTqQe415XK5NGfOHPXt21cpKSlRfa94Rj+Fjr4KDf0UOvoqNPRTaKLZT0VFRcrNzfX8PZ6ICICnoHzaNzMzMyYBMCMjQ5mZmfwfRjXop9DRV6Ghn0JHX4WGfgpNLPopkW/fSsyJbwAAgARGAAQAAEgwBEAAAIAEQwAEAABIMARAAACABEMABAAASDAEQAAAgARDAAQAAEgwBEAAAIAEQwAEAABIMHEZACdOnKjzzz9f9evXV7NmzXTNNddo/fr1PmWOHTumu+++W40bN1a9evU0ePBg7d6926fM1q1bdeWVVyojI0PNmjXT/fffr9LS0lh+FAAAgJiLywC4ePFi3X333Vq2bJnmzp0rl8ulvn376siRI54yo0eP1vvvv6+33npLixcv1o4dO3Tttdd6Xi8rK9OVV16p48eP6/PPP9err76qqVOn6uGHH66NjwQAABAzybXdgJqYPXu2z/OpU6eqWbNmWrlypS699FIdPHhQL7/8sqZPn67LL79ckjRlyhR16tRJy5Yt04UXXqg5c+Zo3bp1mjdvnpo3b65zzz1Xjz76qB588EE98sgjSk1NrY2PlvBWbNmnj9fu0j2Xn6EGdSJ3+LcxRn9fvElN66fpuh4tg5af+tlmJTkduiWvTcTaAACAVcTlCGBlBw8elCRlZWVJklauXCmXy6U+ffp4ypx55plq1aqVli5dKklaunSpzj77bDVv3txTpl+/fioqKtLatWtj2Hp4G/P2t/rnJ5v13PwfIlrvdzsP6bHZ3+u+t77W8VJ3tWX3FB3TI++v00PvrdWB4uMRbQcAAFYQlyOA3txut+69915ddNFFOuussyRJu3btUmpqqho2bOhTtnnz5tq1a5enjHf4K3+9/DV/SkpKVFJS4nleVFQkSXK5XHK5XBH5PIGU1x/t96ltP+w5LElau/1AjT5roH7ad/io5/GxkuNymKSAdRQdrfgzPny0RHVTHGG3Ix4kynfqVNFPoaOvQkM/hSaa/UTf2yAA3n333VqzZo0+/fTTqL/XxIkTNX78+CrX58yZo4yMjKi/vyTNnTs3Ju9Te058Jffu3asPP/ywxrVU7qeNByvqnv3xx0oLnP+052hF2fnzF6hhWo2bERfs/52KDPopdPRVaOin0ESjn4qLiyNeZ7yJ6wB4zz33aNasWVqyZIlatqy4rys7O1vHjx/XgQMHfEYBd+/erezsbE+ZL774wqe+8lXC5WUqGzNmjAoKCjzPi4qKlJubq759+yozMzNSH8svl8uluXPnKj8/Xykpkbs3zmr+sHSOJKlx48YaOPD8sH8+UD8t37xPz69bIUnK79tX9dICf/U3//eI/rL6M0lS78svV4sG6WG3Ix4kynfqVNFPoaOvQkM/hSaa/VQ+g5fI4jIAGmM0cuRIvfPOO1q0aJHatm3r83qPHj2UkpKi+fPna/DgwZKk9evXa+vWrcrLy5Mk5eXl6S9/+Yv27NmjZs2aSTrxr4zMzEx17tzZ7/umpaUpLa3qcFBKSkrM/iOO5XvVJofDeUqfs3I/JScn+zyuru4kr7LOpCTb93eifKdOFf0UOvoqNPRTaKLRT/R7nAbAu+++W9OnT9d7772n+vXre+7Za9CggerUqaMGDRrotttuU0FBgbKyspSZmamRI0cqLy9PF154oSSpb9++6ty5s2655RY9/vjj2rVrl8aOHau7777bb8iDfbhN9a8bY7weR7kxAADUgrgMgC+++KIkqVevXj7Xp0yZoltvvVWS9PTTT8vpdGrw4MEqKSlRv3799MILL3jKJiUladasWfr973+vvLw81a1bV8OHD9eECRNi9TFQDaMoJq+gAdD/YwAA7CIuA6AJ4W/l9PR0TZ48WZMnTw5YpnXr1qe00ADxyR3k++P9arCyAADEI1vsAwj7cSh6W68Ei3TeoY/4BwCwIwIgLCmaU8DBRpB9p4CJgAAA+yEAIiF457jgi0BCLwsAQDwiAMKSIj0F7D2iGGx00fd1EiAAwH4IgLCkSE8BmzAyHauAAQB2RwBEQmAKGACACgRAJISaTgFHdT9CAABqCQEQCcEdxrRuOGUBAIhHBEAkBO/tXIJuBB1GWQAA4hEBEAnBZw1IsHsAwygLAEA8IgAiIYSzoTObPwMA7I4AiITgu7I3nJNAotQgAABqEQEQCSGcUOf9MvcAAgDsiAAIS4r0SSDeQS5YpHO7Qy8LAEA8IgDCkiJ+EojX46BTwN6PGQEEANgQARAJIawpYE4CAQDYHAEQlhTpKWATxmHA4ZQFACAeEQBhSdGdAg69LDPAAAA7IgAiITAFDABABQIgLCm6q4CrT3U+ZRkCBADYEAEQlhTVKWB36GWJfwAAOyIAIiGYMEYAvcuyETQAwI4IgLCkSE8BewvnJBCGAAEAdkQAhCVFegrY976+IO8dxqkhAADEIwIgEoLPKuCgU8AVj5kCBgDYEQEQlhT5jaD9Pz7VsgAAxCMCICwpmlPAwUb13EwBAwBsjgCIhBDO1i6+p4YQAQEA9kMAhCVFfBVwDaeAGQIEANgRARCWFN1VwKHvAxjpdgAAYAUEQCSEGk8BBzk1BACAeEQAhCVZZhVwRFsBAIA1EABhSZZZBcwiEACADREAkRB8poDDOArOTf4DANgQARCWEdXRtjAWdhiWAQMAbI4ACMuI5mibu6b3AJL/AAA2RACEZURzBNBna5egU8De9wtGq0UAANQeAiAsI5pZy3dSN9gUcOhlAQCIRwRAWEY0j13zHskLNqoXznQxAADxiAAIy4juGpCanQTCWcAAADuKywC4ZMkSDRo0SDk5OXI4HHr33Xd9Xnc4HH5//c///I+nTJs2baq8PmnSpBh/EtSGcE4CAQDAjuIyAB45ckRdu3bV5MmT/b6+c+dOn1+vvPKKHA6HBg8e7FNuwoQJPuVGjhwZi+YjgGgOttX4LGDSIADAhpJruwE1MWDAAA0YMCDg69nZ2T7P33vvPfXu3Vunn366z/X69etXKYvaE83p1poeBccUMADAjuIyAIZj9+7d+uCDD/Tqq69WeW3SpEl69NFH1apVKw0ZMkSjR49WcnLgLikpKVFJSYnneVFRkSTJ5XLJ5XJFvvFeyuuP9vvUpuOuUs9jY0yNPmugfiotK6soU1pabd3eZUtLy2zb54nwnYoE+il09FVo6KfQRLOf6PsECICvvvqq6tevr2uvvdbn+qhRo9S9e3dlZWXp888/15gxY7Rz50499dRTAeuaOHGixo8fX+X6nDlzlJGREfG2+zN37tyYvE9tOFYqlX8l9+7dqw8//LDGdVXup++3OyQlSZJWrFipkk2BR/a+3V1R9uuvv1baztU1bkc8sPN3KpLop9DRV6Ghn0ITjX4qLi6OeJ3xxvYB8JVXXtHQoUOVnp7uc72goMDz+JxzzlFqaqruvPNOTZw4UWlpaX7rGjNmjM/PFRUVKTc3V3379lVmZmZ0PsBJLpdLc+fOVX5+vlJSUqL6XrWl6KhL+nKhJKlx48YaOPD8sOsI1E9bF2+Stm6UJHXv3kP5nZsFrOPAF9ukTd9Jks465xwN7H5a2O2IB4nwnYoE+il09FVo6KfQRLOfymfwEpmtA+Ann3yi9evX68033wxatmfPniotLdWWLVvUsWNHv2XS0tL8hsOUlJSY/Uccy/eKtWSvEXmHw3FKn7NyPzmTknweV1e3d9kkZ/Vl7cDO36lIop9CR1+Fhn4KTTT6iX6P01XAoXr55ZfVo0cPde3aNWjZ1atXy+l0qlmzwCNDiK5onroRzj6A3qtAOAkEAGBHcTkCePjwYW3cuNHzfPPmzVq9erWysrLUqlUrSSeGd9966y09+eSTVX5+6dKlWr58uXr37q369etr6dKlGj16tG6++WY1atQoZp8DvqJ57q7P6R5hlOUsYACAHcVlAFyxYoV69+7teV5+X97w4cM1depUSdLMmTNljNFNN91U5efT0tI0c+ZMPfLIIyopKVHbtm01evRon/v7EHtBR+ZOqW7/j4O1g11gAAB2FJcBsFevXkHDwogRIzRixAi/r3Xv3l3Lli2LRtNwCqKZtbyncoPt7Wd8HpMAAQD2Y+t7ABFf3D5n8Ea67orHTAEDABIdARDWYQI8jkjdNTsKjjlgAIAdEQBhGdGcevWpO4yqiX8AADsiAMIyojsFHPrWLm4WgQAAbI4ACMvwnXmN8AhgWKuAKx4HWzACAEA8IgDCMqJ6C6DX42CjizWdLgYAIF4QAGEZbnf0pl7dYSwC8Z0uBgDAfgiAsKSIbwodxjYw0ZyKBgDACgiAsAwTRkgLu26f9wm9dvIfAMCOCICwjGiuvg1netmnLJPAAAAbIgDCMnwXakRxH8Cw2hHRZgAAYAkEQFiGieIIYDhbu3AQCADA7giAsIzobgMTxhRwGJtGAwAQjwiAsAwTxlYt4dft9ThY2QA/BwCAXRAAYRnRnHoNK1xGMYgCAGAFBEBYhu8UcBQXgXASCAAgwREAYRne995FevVtTU8CYRUwAMCOCICwjGiewOG7CjiMdrAIBABgQwRAWEbMTgIJpyz5DwBgQwRAWEY0TwIJZxFIONPFAADEIwIgLCmq28CEMQRI/AMA2BEBEJYR1SngMO7rYwoYAGB3BEBYhu/q28gmr3Cml93u6LUDAAArIADCMqI58uZdXdBVwAEeAwBgFwRAWIaJ6iIQr8fBpoCjeCIJAABWQACEZbh9glekF4GEMQXMKmAAgM0RAGEhxs+jSNccXqgj/gEA7IgACMuI5tRrOCOA4ewZCABAPCIAwjK8p4Ajvwq44nGwmn3bEdFmAABgCQRAWIbPyFuk6/Z6HCxcei8SYQAQAGBHBEBYRlS3gQlrCti7TSRAAID9EABhGb73AEZ4FXCAx/64o3gvIgAAVkAAhGVEdQo4rIUdLAIBANgbARCWUdOtWkKqO4xRvWieSQwAgBUQAGEZJoqrb2t6EghnAQMA7IgACMuI5gkc3nUHC5fuMBaMAAAQjwiAsIxwFmqcUt3BpoCj2A4AAKyAAAjLCGerlvDr9nocxhQwi0AAAHZEAIRlRHUbmBofBRfRZgAAYAkEQFiGzwkcEa/b63HQk0C8y0a4IQAAWEBcBsAlS5Zo0KBBysnJkcPh0Lvvvuvz+q233iqHw+Hzq3///j5l9u3bp6FDhyozM1MNGzbUbbfdpsOHD8fwU6CyaK6+rekIIKuAAQB2FJcB8MiRI+ratasmT54csEz//v21c+dOz68ZM2b4vD506FCtXbtWc+fO1axZs7RkyRKNGDEi2k1HNaJ5Aofb+H8ctB2RbQYAAJaQXNsNqIkBAwZowIAB1ZZJS0tTdna239e+++47zZ49W19++aXOO+88SdLzzz+vgQMH6oknnlBOTk7E24zgonoSiM9jpoABAIktLgNgKBYtWqRmzZqpUaNGuvzyy/XnP/9ZjRs3liQtXbpUDRs29IQ/SerTp4+cTqeWL1+uX/3qV37rLCkpUUlJied5UVGRJMnlcsnlckXx08hTf7TfpzaVlpZ5HhtjavRZA/WT2+32PC4rc1dbt7vMu2yZbfs8Eb5TkUA/hY6+Cg39FJpo9hN9b9MA2L9/f1177bVq27atCgsL9ac//UkDBgzQ0qVLlZSUpF27dqlZs2Y+P5OcnKysrCzt2rUrYL0TJ07U+PHjq1yfM2eOMjIyIv45/Jk7d25M3qc2fL3XISlJklTmduvDDz+scV2V+2nPz06V3/GwecsWffjhpoA/u31nRdmftm/Xhx9uq3E74oGdv1ORRD+Fjr4KDf0Ummj0U3FxccTrjDe2DIA33nij5/HZZ5+tc845R+3atdOiRYt0xRVX1LjeMWPGqKCgwPO8qKhIubm56tu3rzIzM0+pzcG4XC7NnTtX+fn5SklJiep71Rbn2t3Shq8lSQ6HUwMH9gu7jkD99ObuFdpwcJ8kqXXr1ho4sFPAOj4q+lrau1uSlJNzmgYOPDvsdsSDRPhORQL9FDr6KjT0U2ii2U/lM3iJzJYBsLLTTz9dTZo00caNG3XFFVcoOztbe/bs8SlTWlqqffv2BbxvUDpxX2FaWlqV6ykpKTH7jziW7xVrSUlJnsduY07pc1bpJ4fD66Gz2rodXmXlcNi2v8vZ+TsVSfRT6Oir0NBPoYlGP9HvcboKOFw//fST9u7dqxYtWkiS8vLydODAAa1cudJTZsGCBXK73erZs2dtNTPhRfMMXncYW7u4o7gYBQAAK4jLEcDDhw9r48aNnuebN2/W6tWrlZWVpaysLI0fP16DBw9Wdna2CgsL9cADD6h9+/bq1+/ElGKnTp3Uv39/3XHHHfr73/8ul8ule+65RzfeeCMrgGtRNFfcmjC2duEoOACA3cXlCOCKFSvUrVs3devWTZJUUFCgbt266eGHH1ZSUpK++eYbXXXVVerQoYNuu+029ejRQ5988onP9O20adN05pln6oorrtDAgQN18cUX66WXXqqtjwRVDWaRDF/hbO1iAjwGAMAu4nIEsFevXtWGg48//jhoHVlZWZo+fXokm4VTVPnP1G2kJEeAwqdQd9Cj4MIoCwBAPIrLEUDYU+WsFdERwDBOGQmnLAAA8YgACMuofEJHJLMXJ4EAAFCBAAjLqBy2gq3WDa9u71XA1ZcNZ8UwAADxiAAIy6gczCKZvdw1nQKOXBMAALAMAiAsI5oLLpgCBgCgAgEQllE5a0V0+jWMTaZZBQwAsDsCICyjctiK3hRwsG1gvB5HrgkAAFgGARCWUWUbmEjW7VVb0JNAxAggAMDeCICwjGhOAXtXFWwVcDhlAQCIRwRAWEblwFdbU8De7SD/AQDsiAAIy6iSyyK6BiSMKeAwwiIAAPGIAAjLiOoqYO/3CbYIxKdsVJoAAECtIgDCMqqsAo5g3e6abgPDJDAAwIYIgLCMKquAo7QIJKyTQMh/AAAbIgDCMioHvkiuwPWuKtjUcjhlAQCIRwRAWEaVs4AjOP0azsrecKaLAQCIRwRAWEaVrBXZnaArHoYzBRzBJgAAYBUEQFhGrKaAw1sFTAQEANgPARCWUfUouNqZAjZMAQMAbI4ACMuoHPgiGb7C2dyZKWAAgN0RAGEZlXNZRM8C9opyQc8C9ilLBAQA2A8BEJZR5SS4KI0ABgt1bnfF47JI3ogIAIBFEABhGZWD2fYDRyNWt3fVn/zw3+rLej3+5qeDEWsDAABWQQCEZVQemDtSUhrBuisqb9EgPeSyGalJEWsDAABWQQCEZUV0CriG9XILIADAjgiAsAx3pfvtIpm9vKeXg94DGEZZAADiEQEQllE5akV0FXAYW7uwDQwAwO4IgLCMKhtBW+AkEBIgAMCOCICwjMojfpE8hi2c0z2YAgYA2B0BEJZRZR/ASNYdxj6ACqcsAABxiAAI66gUtiJ7Eoh3vaGXJf4BAOyIAAjLqBzMIjn45vaZAg59FTADgAAAOyIAwjJMpfG2aE0Bh7MK+MRzUiAAwF4IgLCMaAYvE0YCrBJEyX8AAJshAMIyojkFHM4iELe70s9GrhkAAFhCcqzf8MiRI5o0aZLmz5+vPXv2yF3pb9tNmzbFukmwiKpTwNFZBBJurSdGDx0RawsAALUt5gHw9ttv1+LFi3XLLbeoRYsWcjj4ixUnRXUEMPSFHZWnnoOtGgYAIN7EPAB+9NFH+uCDD3TRRRfF+q1hcZWnZiMZvNzhTAFXDqJMAgMAbCbm9wA2atRIWVlZsX5bxIGoLgLxCnFBVwGzCAQAYHMxD4CPPvqoHn74YRUXF9e4jiVLlmjQoEHKycmRw+HQu+++63nN5XLpwQcf1Nlnn626desqJydHw4YN044dO3zqaNOmjRwOh8+vSZMm1bhNOHWxOgkk6CrgKE5FAwBgBTGfAn7yySdVWFio5s2bq02bNkpJSfF5fdWqVUHrOHLkiLp27arf/va3uvbaa31eKy4u1qpVq/TQQw+pa9eu2r9/v/7whz/oqquu0ooVK3zKTpgwQXfccYfnef369U/hk+FURXcEsAJTwACARBfzAHjNNdecch0DBgzQgAED/L7WoEEDzZ071+fa3/72N11wwQXaunWrWrVq5blev359ZWdnn3J7EBmVg1nUFoEELx21dgAAYAUxD4Djxo2L9Vvq4MGDcjgcatiwoc/1SZMm6dFHH1WrVq00ZMgQjR49WsnJMe8SBBC1k0CCJLrKL0fyTGIAAKyg1tLOypUr9d1330mSunTpom7dukXlfY4dO6YHH3xQN910kzIzMz3XR40ape7duysrK0uff/65xowZo507d+qpp54KWFdJSYlKSko8z4uKiiSduO/Q5XJFpf3lyuuP9vvUprKyMp/nrtLSsD9voH7ynQKuvh8rBz6XyyVXUljNiAuJ8J2KBPopdPRVaOin0ESzn+h7yWFifNDpnj17dOONN2rRokWeEbkDBw6od+/emjlzppo2bRpWfQ6HQ++8847fqWWXy6XBgwfrp59+0qJFi3wCYGWvvPKK7rzzTh0+fFhpaWl+yzzyyCMaP358levTp09XRkZGWO1GVW9tcurT3RXrkn7dtkwXZ0fm63nv0iQZr82cn80rDVh2zJdJKi6tKDvx/FJlMDAMALZRXFysIUOG6ODBg9VmAzuL+V9rI0eO1KFDh7R27Vp16tRJkrRu3ToNHz5co0aN0owZMyLyPi6XS9dff71+/PFHLViwIOgfcM+ePVVaWqotW7aoY8eOfsuMGTNGBQUFnudFRUXKzc1V3759o/4Fcrlcmjt3rvLz86ssnLGL5e+vk3b/5Hne5ayzNPCC3LDqCNRPf1g6x6fcgAEDAm5C/vDqBVJpRUDs0ydfDTPs1+eJ8J2KBPopdPRVaOin0ESzn8pn8BJZzAPg7NmzNW/ePE/4k6TOnTtr8uTJ6tu3b0Teozz8/fDDD1q4cKEaN24c9GdWr14tp9OpZs2aBSyTlpbmd3QwJSUlZv8Rx/K9Ys3h8N2VyOl01vizeveTv0Hu5OQUOZ3+A2Dl4snJybbtc8ne36lIop9CR1+Fhn4KTTT6iX6vhQDodrv9dnxKSkqVc4EDOXz4sDZu3Oh5vnnzZq1evVpZWVlq0aKFrrvuOq1atUqzZs1SWVmZdu3aJUnKyspSamqqli5dquXLl6t3796qX7++li5dqtGjR+vmm29Wo0aNIvNBEbYq269E6OYEf/W4jZEzwPm+VbajiUwzAACwjJgHwMsvv1x/+MMfNGPGDOXk5EiStm/frtGjR+uKK64IqY4VK1aod+/enufl07LDhw/XI488ov/85z+SpHPPPdfn5xYuXKhevXopLS1NM2fO1COPPKKSkhK1bdtWo0eP9pneRW2ovP1KZKKXv1qqq7nya6wCBgDYTcwD4N/+9jddddVVatOmjXJzT9zftW3bNp111ll64403QqqjV69e1YaDYMGhe/fuWrZsWeiNRkxU3X4lUvVWrai6r0jl8uQ/AIDdxDwA5ubmatWqVZo3b56+//57SVKnTp3Up0+fWDcFFlNlI+iI1Rv8vaorz0kgAAC7qZXNLRwOh/Lz85Wfn18bbw+LitZRcOEGuMrlGQEEANhNTALgc889pxEjRig9PV3PPfdctWVHjRoViybBgirnrGguAql+Cjg67QAAwCpiEgCffvppDR06VOnp6Xr66acDlnM4HATABFZ1CjhCI4BhTgFXXQVMAgQA2EtMAuDmzZv9PgZ8RGsbGD8BrvpVwL6vRmoxCgAAVuEMXiSyJkyYoOLi4irXjx49qgkTJsS6ObCQqtuvRKhev1PAYYwAMgcMALCZmAfA8ePH6/Dhw1WuFxcX+z1nF4kjWlPA/qZ7qwuXVdpB/gMA2EzMA6Axxu8ZrF9//bWysrJi3RxYSLQWX/itprpFIJWfEwABADYTs21gGjVqJIfDIYfDoQ4dOviEwLKyMh0+fFi/+93vYtUcWFDV4BW9RSDVjS6yCAQAYHcxC4DPPPOMjDH67W9/q/Hjx6tBgwae11JTU9WmTRvl5eXFqjmwoGidwOEvSAaaAg731BAAAOJRzALg8OHDJUlt27bVL37xC6WkpMTqrREnqo68RafeE9f81x7uljEAAMSjmATAoqIiZWZmSpK6deumo0eP6ujRo37LlpdD4qm6/UqkTgIJ7Vq4ZQEAiFcxCYCNGjXSzp071axZMzVs2NDvIpDyxSFlZWWxaBIsKGqLQPxOAfuv3N91BgABAHYTkwC4YMECzwrfhQsXxuItEYfKw1eS06Eyd+SWXnjf7+dwnAx0Ae8BrHhc3g7GAAEAdhOTAHjZZZf5fQx4Kw9fTodU5n3hVOs9GeAcDsnpcKjMBA6X3q+Ut4OTQAAAdhPzfQBnz56tTz/91PN88uTJOvfcczVkyBDt378/1s2BhZTnLOfJWwQiFrw8wdKh8psPAk0Be18ubwdTwAAAu4l5ALz//vtVVFQkSfr2229VUFCggQMHavPmzSooKIh1c2AhxmsKWIrkSSAnfnfoxCjgifcK1IaKx5FuBwAAVhGzbWDKbd68WZ07d5Yk/e///q8GDRqkv/71r1q1apUGDhwY6+bAQozXSJ3381Ou12sK+MQCpFCngE+ORLoj0w4AAKwi5iOAqampKi4uliTNmzdPffv2lSRlZWV5RgaRmCqmgE/8Hqkp4PIg6fCeAg5Que8UcHm7GAEEANhLzEcAL774YhUUFOiiiy7SF198oTfffFOStGHDBrVs2TLWzYGFuKM2BXxyBFAVU8DByvq0g/wHALCZmI8A/u1vf1NycrL+/e9/68UXX9Rpp50mSfroo4/Uv3//WDcHFlJ5CjhSA28VI4DBp5e9L7MIBABgVzEfAWzVqpVmzZpV5frTTz8d66bAYjxTwM7yVcCRTV5hrwJmEQgAwKZiHgAlqaysTO+++66+++47SVKXLl101VVXKSkpqTaaA4vwrAKO8Mib7xRweairvg3RaAcAAFYR8wC4ceNGDRw4UNu3b1fHjh0lSRMnTlRubq4++OADtWvXLtZNgkV4bwQtRe78DZ9FIJ5tYEJfBBLpkUgAAGpbzO8BHDVqlNq1a6dt27Zp1apVWrVqlbZu3aq2bdtq1KhRsW4OLKR8qjXSU8DltTgc8poCrr6sdzuIfwAAu4n5CODixYu1bNkyz9nAktS4cWNNmjRJF110UaybAwsp328v0qtv/U0BB4p13qGTRSAAALuK+QhgWlqaDh06VOX64cOHlZqaGuvmwEI8I4DB9moJt16vKWDP9HIIJ4EEmy4GACBexTwA/vKXv9SIESO0fPlyGWNkjNGyZcv0u9/9TldddVWsmwMLqXwPYOTuvSsPlhUjgIGngCvKOoMsGAEAIF7FPAA+99xzateunfLy8pSenq709HT94he/UPv27fXss8/GujmwkGgdBef2XgRS/l4BYp2/U0MYAAQA2E3M7wFs2LCh3nvvPW3cuFHr1q2TJHXu3Fnt27ePdVNgMeWhLNIngXhCnby2gQkyBezw/A+rgAEA9lMr+wC+/PLLevrpp/XDDz9Iks444wzde++9uv3222ujObCIyiOAETsL+GSQ9N4GJuBG0F73IbIIBABgVzEPgA8//LCeeuopjRw5Unl5eZKkpUuXavTo0dq6dasmTJgQ6ybBIqqcBRypKeCTq4u9t4EJVLcndHqX5S5AAIDNxDwAvvjii/rnP/+pm266yXPtqquu0jnnnKORI0cSABOY5yg4R+Urp1pvxTYwwVYYG58tY8qvRaQZAABYRswXgbhcLp133nlVrvfo0UOlpaWxbg4spHz0zbMRtDsy9XpPLQedAvYqyxQwAMCuYh4Ab7nlFr344otVrr/00ksaOnRorJsDK6l8FnCkF4GEMAXsXdZzjSlgAIDN1NoikDlz5ujCCy+UJC1fvlxbt27VsGHDVFBQ4Cn31FNP1UbzUEvKjO9G0NE8CSRQ1W6vNgTbMxAAgHgV8wC4Zs0ade/eXZJUWFgoSWrSpImaNGmiNWvWeMo5InwaBKxvzfaiEw8807SRqXfHgaOe+pKd5XX7r3zPoRJJUpnbeJ0aQgIEANhLzAPgwoULY/2WiBNJTofK3EZtGmfoi837Ijb1eqy0TJK0q+iYcrPqSAo8uni4xCVJOuoqq1gEEpFWAABgHTG/BxAIJjM95cSDSO0DeLKeS85o4rUKuPpFIF1bNlD5WSCMAAIA7IYACMswlfYBjNQJHD6rgE9eC3gWsNdRcE62gQEA2FRcBsAlS5Zo0KBBysnJkcPh0LvvvuvzujFGDz/8sFq0aKE6deqoT58+nlNHyu3bt09Dhw5VZmamGjZsqNtuu02HDx+O4adAZZW3gYlU7vIsAnEEPwrOu6zYBgYAYFNxGQCPHDmirl27avLkyX5ff/zxx/Xcc8/p73//u5YvX666deuqX79+OnbsmKfM0KFDtXbtWs2dO1ezZs3SkiVLNGLEiFh9BFQj0iNvXod7eG3uHOgoOK+yJx9zFjAAwG5qZRuYUzVgwAANGDDA72vGGD3zzDMaO3asrr76aknSa6+9pubNm+vdd9/VjTfeqO+++06zZ8/Wl19+6dmU+vnnn9fAgQP1xBNPKCcnJ2afBSd4B7IkR2SngFWDKeAT9woa7x8HAMA24nIEsDqbN2/Wrl271KdPH8+1Bg0aqGfPnlq6dKmkE2cPN2zY0OdEkj59+sjpdGr58uUxbzN8A1lMpoADLgIJfboYAIB4FZcjgNXZtWuXJKl58+Y+15s3b+55bdeuXWrWrJnP68nJycrKyvKU8aekpEQlJSWe50VFJ/atc7lccrlcEWl/IOX1R/t9aktpWcW5b+bkGXDuMnfYn9dfP5WWndgGxhjjSXOlpaV+63adPI7wRFlVWzbe2f07FSn0U+joq9DQT6GJZj/R9zYMgNE0ceJEjR8/vsr1OXPmKCMjIyZtmDt3bkzeJ9ZK3VL513HjDxskJWnHzp368MPtNarPu5++3e2QlKQ9u3fryLETd/ctW/6F9n9fdWjvq70nyh7Yv/9kVnRo5apVKvvRvsOAdv1ORRr9FDr6KjT0U2ii0U/FxcURrzPe2C4AZmdnS5J2796tFi1aeK7v3r1b5557rqfMnj17fH6utLRU+/bt8/y8P2PGjPE5qq6oqEi5ubnq27evMjMzI/gpqnK5XJo7d67y8/OVkpIS1feqDSWlbv1x+TxJUqczz9QH235Q8+xsDRx4blj1+OunA19skzZ9p+zsbB3fV6ydRw/r/PMv0MXtG1f5efPtLmnDN2rcOEtuIxUe2q9u3bppwFmBvxfxyu7fqUihn0JHX4WGfgpNNPupfAYvkdkuALZt21bZ2dmaP3++J/AVFRVp+fLl+v3vfy9JysvL04EDB7Ry5Ur16NFDkrRgwQK53W717NkzYN1paWlKS0urcj0lJSVm/xHH8r1iqUxlnscpyUmSTtyDV9PP6t1PzqQT9SU5nZ77+pKSkvzWXV7W6XCqfA7YGaCsXdj1OxVp9FPo6KvQ0E+hiUY/0e9xGgAPHz6sjRs3ep5v3rxZq1evVlZWllq1aqV7771Xf/7zn3XGGWeobdu2euihh5STk6NrrrlGktSpUyf1799fd9xxh/7+97/L5XLpnnvu0Y033sgK4FrivdCiYiPoyFbudMpzEkigqo1XWbkj3A4AACwiLgPgihUr1Lt3b8/z8mnZ4cOHa+rUqXrggQd05MgRjRgxQgcOHNDFF1+s2bNnKz093fMz06ZN0z333KMrrrhCTqdTgwcP1nPPPRfzz4ITvFflOiO8+rY8wDnk8OwDGGiLGeNT9uQ2MCwDBgDYTFwGwF69elX7l7LD4dCECRM0YcKEgGWysrI0ffr0aDQPNeD9x1m+EXSkNoIxFalOQY4C9gRRh6NiI2gAAOwmLgMg7Md7RC7SU8Dl1TgdDq8p4CAjgA6HZ5NMTgIBANiN7TaCRnzyjliejaAjFLwqpoC9jndzBy/raRv5DwBgM4wAwhJ8p4AjexKI9+keCnERyIkpYE4CAQDYEwEQluD/LOBI1X3i9xNTwFXfL1DZ8pjIFDAAwG6YAoYl+IwARngK2LOwQ15TwMEWgXiVJf4BAOyGEUBYgs89gBFefuvJkQ55NoIOFOsqFoFUTAGTAAEAdsMIICzBe5o1WvsA+k4BV1/W4VWWKWAAgN0QAGEJ3hkr2GbNYdftM61b/f2F3mXL/5f4BwCwGwIgLMFnA+aTCfDzwr3af+T4qdftNa1bPqv7v6t+Clq2PIi+sexHTgMBANgKARCW4G+lriQ9+sG6CNRtPHWXB8oF3+/RPj/h0rvs8dITmwWu3VGkwp+PnHI7AACwCgIgLMHrtLaKxReSPtv438jV7ZCOuso8170fe8qqoqyrrGK36OLjpafcDgAArIIACEvwnQKOdN3lfCt2+7kRsCKIchIwAMC+CICwBH+rbyNXd/m0buhlK4dQbgEEANgJARCW4DmCzet/I1f3id8rhzp/q4yNVxAFAMCuCICwBH+rbyNW98nfK0/r+hvV89ozGgAA2yIAwhJ8VwFHegTQ/xSw/xHA0MsCABCvCICwBH9n8EqRufcu0LSuv82gA5Ul/gEA7IQACEvwDl7e2SsSg4EmYHzzMwLocxJI1fYBAGAHBEBYgvfqW+8p4EgEL++zgL35q9sdaASQBAgAsBECICzBZ/FFpBeBBFwFHHpZ4h8AwE4IgLAEnylgr+uRnAKuMq0bZArYe9CPAUAAgJ0QAGEJ3qtvI78K+MTvTmcI28AEmC5mFTAAwE4IgLCEijN4HZHfB9D4HwGsbhuYyvsRkv8AAHZCAIQlVJzBG/lzeI3PDYZ+rvtrh6PSFDB3AQIAbIQACEuoWAUcjbOAT/weSrCsWBgSfLoYAIB4RQCEJfisvo34UXBhnATiVZYpYACAXREAYQm+J4FEZwq4ytYuTAEDABIUARCW4HsWcKTrLg+XwY93C1TW356BAADEKwIgLMF75K3yKRynXPfJ30ObAvZflpNAAAB2QgCEJfhMAUfpJJDKFVc/BRx8tBAAgHhFAIQleJ/BG/lVwP73AfQX6wJt+MwIIADATgiAsATvDZgjvQy4Ylo3+H19gcqS/wAAdkIAhCV4z9JGawq4ysreIKuA/V0HAMAOCICwhIqzgB1ROAvY/xSwv2ld77LeW79wFjAAwE4IgLAE36PgolO30+l7znC1U8BOFoEAAOyLAAhLqJgCdkR+CtgrvgXb3Nl7BNB7L0AGAAEAdkIAhCW43RWLQCI9BewOcF+fv2E9z6igo3JwJAECAOyDAAhL8Mpdka/b65SRoFPAXmV9rkehXQAA1BYCICzBewPmaE0BOxTCFLACLRiJbJsAAKhNBEBYQsUq4MhPAYeztUugsqwCBgDYiW0DYJs2bU6OJvn+uvvuuyVJvXr1qvLa7373u1pudeKqmAKOwgig1xYzvlPAgReBMAUMALCz5NpuQLR8+eWXKisr8zxfs2aN8vPz9etf/9pz7Y477tCECRM8zzMyMmLaRlTwHnlzROkkEO/3qXy98rVQ9gwEACBe2TYANm3a1Of5pEmT1K5dO1122WWeaxkZGcrOzo510+CH57zeKNwD6H3OsA+/q4D9zwGT/wAAdmLbAOjt+PHjeuONN1RQUOATAqZNm6Y33nhD2dnZGjRokB566KFqRwFLSkpUUlLieV5UVCRJcrlccrlc0fsAJ9/D+3e7KS0tPfHAGJWVP5YkE95n9tdP7jL3iarcZfJOfcdLS6vUXXayrNxun1G/Uj9l453dv1ORQj+Fjr4KDf0Ummj2E30vOUwCzG3961//0pAhQ7R161bl5ORIkl566SW1bt1aOTk5+uabb/Tggw/qggsu0Ntvvx2wnkceeUTjx4+vcn369OlMH5+i7/Y79Pfvk9SyrtGwM8r019Un/m3SIMVownllQX66elM3OPXVXqcGtynTwp1O7Ss58Y+AOzqW6aws36//m5uc+ny3UwNalumHIoc2Fp24Tfbm9mU6v6nt/1MBgIRQXFysIUOG6ODBg8rMzKzt5tSKhBgBfPnllzVgwABP+JOkESNGeB6fffbZatGiha644goVFhaqXbt2fusZM2aMCgoKPM+LioqUm5urvn37Rv0L5HK5NHfuXOXn5yslJSWq71UbMjb8LH3/lRo2aKDLLj1bf139mSQpPT1dAwdeFuSnK/jrp4+Kvpb27laXLl207MAWqeSYJKlHjx66olMzn5///L210u7t6tChg/Zt3qeNRfslSWefc44GdjstAp/UOuz+nYoU+il09FVo6KfQRLOfymfwEpntA+CPP/6oefPmVTuyJ0k9e/aUJG3cuDFgAExLS1NaWlqV6ykpKTH7jziW7xVLSUlJkk6cwZua6vX5HKrR5/Xup/Jp/5TkJHkv73AkJVWp2+Fwesp63y7gdFYtaxd2/U5FGv0UOvoqNPRTaKLRT/S7jbeBKTdlyhQ1a9ZMV155ZbXlVq9eLUlq0aJFDFqFytwnb71zyHcF7u6iEr24qFC7i47VuG7PTQ6VFnYsWv+zZn6x1edePxNgwcjSwr16fekWz5F1AADEM1uPALrdbk2ZMkXDhw9XcnLFRy0sLNT06dM1cOBANW7cWN98841Gjx6tSy+9VOecc04ttjhxeWKVn1XAj83+Xks2/KwZIy6sUd2eFcaVrs/4YqtmfCF1yK6v7q0a+ZSVfFf+vv3Vdr391XY1z0xX3y6sHAcAxDdbB8B58+Zp69at+u1vf+tzPTU1VfPmzdMzzzyjI0eOKDc3V4MHD9bYsWNrqaUIdhLI0k17a173yd8DnTByoPh4yGV3Hqz5SCQAAFZh6wDYt29fvxv45ubmavHixbXQIgTi2asvCnUHOt7tVMsCABCvbH8PIOJF9DaCNl5TwM0zqy7i8TkdxKtso4zUyDYEAACLIADCEspDmNMhNaufHtm6VV63Q7/v1T7ksrde1Cai7QAAwCoIgLCEiilgh1KTnfrbkG4Rq9tzG4BDyu/cXOe3aRS0rMMhXXh6Y11xZrOAZQEAiFcEQFiCke9NgEkRnAeufH9hanLgr33lXV7SUvhPBABgP/ztBkvwngKWqu7Dd0p1q7xuh8/voZR1RGVZCgAAtYsACEuo2KvvZPCKYO7yntYNuyz5DwBgQwRAWEp58Ipk7qq8tUt1o4um0nRxdaOFAADEKwIgLKFiCjj4NG3Ydat8k+nyukMo6yyfAgYAwH4IgLAEd6Wp18hOAfs+r1y17z6AvmUYAAQA2BEBEJZQJaRFMHhVhEuHz++e9/ZTVlEYiQQAwCoIgLCEKqtvIzkFXGmFceUpYO/jAqusRo5YKwAAsA4CICyhyhRwBOsuj3cVW7r41u6991+VsiRAAIANEQBhDVXuvYvkCGCw+wtNwLJMAQMA7IgACEsIZ6Vu2HUHmQJ2+1kEwhQwAMDOCICwBHflvfoiGL0q8p3/0z1MNVPADAACAOyIAAhLqAhhkQ9ewbaYcXslQHelfWCYAgYA2BEBEJZQMQV84nk09gEMtMm0qaYs+Q8AYEcEQFhCLKaAy2ss/Pmw7+ve28BUKvvzoZKAZQEAiFcEQFhD+TRtFKaAK6/s3XHgqL+39lv24FFX5BoCAIBFEABhCZ6NoE9+IyN6FnCl0UWns/IUcNWNoAO9fSS3pwEAoLYQAGEJbncURwBV6Si4Ku9dtWygAMoUMADADgiAsIRKi4Ajuv9eecALtMm08VM2YF3kPwCADRAAYQlVV99GYRFIgBHAw8dcXmV9RwsrO1B8PGLtAgCgthAAYQmevfpOPo/GIpCKLWZ8K/9+1yGvsvIpW9mG3Yf9vwAAQBwhAMJSHFGYAq7Y29n//YWN66UGLFtZ0/ppEWwZAAC1gwAISwi2WfMp1S3frV2qPQu4UtnK3CwCAQDYAAEQlhDdKWDfOqs9CzjIFDDxDwBgBwRAWELVhRqRS4DuSptMV3lvf2cBh1AWAIB4RQCEJbgrncAR2X0Afes0lcbxTHVlK+U98h8AwA4IgLCEylOvET1wo9L9hZW5vW4CrHwvYpWyJEAAgA0QAGEJpvJZwH6mYLdXOsM3VFVGFyvVvWVvsY65yiq1Qz4/U27bvqMqPl5ao3YAAGAVBEBYgmfk7eQ30t8AXO//WaQf9x4Jv+6Tvzs8z31H8eZ9t1t3T1vlWzbAFPDSTXs1/JUvwm4DAABWklzbDUDicbuN1u0s0qFjpSpzG5UZo03/LQ92gbeBOV7m1todRWrduG5Y71d5FbA/87/fE3LZL7fsD+v9AQCwGgIgYm7ywo16cu4Gv6+lJPnfrLlcTW4NrJgCDv7T4ZQFACBeEQARcxWjfdKZ2fXldDiUnORQ3dRkXdejpaTonAQSyubS4ZQFACBeEQARc+WjbGOv7KTbLzndb5lAI3A1yWWVF3aE0jbiHwDAzlgEgphzhzDKFnAKuAYJsHwdRzijeowAAgDsjACImDOVtmXxJ9BLj83+Puz3q7wNTCCFPx8OuexXW1kIAgCIXwRAxFwo99kFem3Tz8G3gTHmxErj0jK3XGVuz4hjsFC3++CxkFYBS9KPe4uDtgMAAKuy7T2AjzzyiMaPH+9zrWPHjvr++xMjSMeOHdMf//hHzZw5UyUlJerXr59eeOEFNW/evDaam1DK9+GrdgSwmtc6jv3oRA3mRF1uc2JU0ag8XCbr3mVzq9YZ5M6+If9vechlx767Rtd0O63aMgAAWJWtRwC7dOminTt3en59+umnntdGjx6t999/X2+99ZYWL16sHTt26Nprr63F1iYOt/vE79Xdz1ddACspdet4qVvHy9xylRmVuctDYOD3PK1hHbVpkiEp+Hm+TeqlqkPzetWWOVxS6nOEHAAA8cS2I4CSlJycrOzs7CrXDx48qJdfflnTp0/X5ZdfLkmaMmWKOnXqpGXLlunCCy+MdVN9LPh+t+Z/d3Jj4pPX3G63tv7o1OfvrZPT6fR6pWqg8X5uApQzIZQP8NBzD1/l69W/R8Wz1dsOSKp+pW11I4Bv3NZTbZvWlUMnpoodjhN1ORwOlZW6NH/+fPXp00dpqSkngqRDqpuapOSk4P/eWfVQvuqnJyslhLJ/eudbJSfF72IRt9utH390avn75d8p+EM/hY6+Cg39FJryfqqz/mf1PSuntptjO7YOgD/88INycnKUnp6uvLw8TZw4Ua1atdLKlSvlcrnUp08fT9kzzzxTrVq10tKlS2s9AH7z00FNW77VzytOac9PMW9PtDSumxrwteoCYPtm9ZTdIN3vay6XU/VSpKy6qUpJSQm7TVnVtKmymV9uC7t+63Hqs932+U5FD/0UOvoqNPRTaJzqsb2IABgFtg2APXv21NSpU9WxY0ft3LlT48eP1yWXXKI1a9Zo165dSk1NVcOGDX1+pnnz5tq1a1fAOktKSlRSUuJ5XlRUJElyuVxyuVwRa/t5rRpo1OXtPM8dOvEvocLCjWrfrr2cSUme6968Q5PD53rwPfUqF/Gegj2VegP9TOO6qbrsjKyA/VZWWur3uiSlOk3Anyu/XpM/j9Ob1K3yc6aa+eJRvdsFfC0elLnLVFhYqHbt2inJmVTbzbEs+il09FVo6KfQlPdT99z6Ef07VqrZ3xF2Y9sAOGDAAM/jc845Rz179lTr1q31r3/9S3Xq1KlRnRMnTqyysESS5syZo4yMjBq31R9/0aJ9S0klP0T0fWrNPmluNQNoB0okf1/Pa9uU6ZMFc4JWP3du1UUg5XJSnNrj5/bXX+cc1IcffuhzLb3EKX+3yhacVarWx9YHbYfVdciVdHxjbTfD8uin0NFXoaGfQtMhVzr4wwp9GOG/+oqL2cnBtgGwsoYNG6pDhw7auHGj8vPzdfz4cR04cMBnFHD37t1+7xksN2bMGBUUFHieFxUVKTc3V3379lVmZmY0my+Xy6W5c+cqPz+/RlOb8cYYo3Grqoa4x24b4Kd0hVD6qU23Il39wjKfa3dc3Ea39+tQpWznvUeU/8xnPtcGntVcv7+ha7CPYHmJ9p2qKfopdPRVaOin0ESzn8pn8BJZwgTAw4cPq7CwULfccot69OihlJQUzZ8/X4MHD5YkrV+/Xlu3blVeXl7AOtLS0pSWllblekpKSsz+I47le9W2Oy87Xf9YvMnnWqifvbp+6tqqcZVrx8uM3/JnZDescq3oWJmt/gwS6Tt1Kuin0NFXoaGfQhONfqLfbRwA77vvPg0aNEitW7fWjh07NG7cOCUlJemmm25SgwYNdNttt6mgoEBZWVnKzMzUyJEjlZeXV+sLQFA7uuQ0CLls91YNo9cQAABiwLYB8KefftJNN92kvXv3qmnTprr44ou1bNkyNW3aVJL09NNPy+l0avDgwT4bQcM6gm3GXGs4JxgAEOdsGwBnzpxZ7evp6emaPHmyJk+eHKMWIVymyi6D1kD8AwDEO3agBCRSHQAgoRAAAQAAEgwBEAAAIMEQAGFZll0EAgBAnCMAwrKsuggEAIB4RwAExBoQAEBiIQDCspgCBgAgOgiAsKzKU8ApSdELhGkpSSGXrZdm2+0zAQAJgr/JEBe6tmygkZefEZW6L27fRJef2Sykshe0zdLgHi2j0g4AAGKFAIi48N49F0el3k4tMvXG7T1DKls/PVn/ujMvKu0AACCWmAJGQuMuQwBAIiIAIqGx0QwAIBERAAEAABIMARAJjSlgAEAiIgACAAAkGAIgAABAgiEAAgAAJBgCIBIaq4ABAImIAIiExiIQAEAiIgACAAAkGAIgAABAgiEAwrosdoMe08UAALsgAAIAACQYAiAAAECCIQDCsvLaNZYkNamXFvG6+3RqLknqf1Z20LLXdjtNkvTr83Ij3g4AAGpDcm03AAjk0jOa6sWh3XVmi8yI1/2XX52lQV1baODZLYKW/dOVnXRph6YhhUUAAOIBARCW5XQ6NCCEgFYTzTPTdfW5p4VUtkm9NF3TLbSyAADEA6aAAQAAEgwBEAAAIMEQAAEAABIMARAAACDBEAABAAASDAEQAAAgwRAAAQAAEgwBEAAAIMEQAAEAABIMARAAACDBEAABAAASDAEQAAAgwRAAAQAAEkxybTcgnhljJElFRUVRfy+Xy6Xi4mIVFRUpJSUl6u8Xr+in0NFXoaGfQkdfhYZ+Ck00+6n87+3yv8cTEQHwFBw6dEiSlJubW8stAQAA4Tp06JAaNGhQ282oFQ6TyPH3FLndbu3YsUP169eXw+GI6nsVFRUpNzdX27ZtU2ZmZlTfK57RT6Gjr0JDP4WOvgoN/RSaaPaTMUaHDh1STk6OnM7EvBuOEcBT4HQ61bJly5i+Z2ZmJv+HEQL6KXT0VWjop9DRV6Ghn0ITrX5K1JG/cokZewEAABIYARAAACDBEADjRFpamsaNG6e0tLTaboql0U+ho69CQz+Fjr4KDf0UGvopulgEAgAAkGAYAQQAAEgwBEAAAIAEQwAEAABIMARAAACABEMArKHJkyerTZs2Sk9PV8+ePfXFF1/4vL5r1y7dcsstys7OVt26ddW9e3f97//+b7V1fv3117rpppuUm5urOnXqqFOnTnr22Wf9vnenTp1Up04ddezYUa+99lrQ9o4aNUo9evRQWlqazj333CqvL1q0SFdffbVatGihunXr6txzz9W0adOC1huM3frJ28aNG1W/fn01bNgwaL2hsGNfGWP0xBNPqEOHDkpLS9Npp52mv/zlL0Hrro4d++njjz/WhRdeqPr166tp06YaPHiwtmzZErTuYOKpr0Ktd9GiRerevbvS0tLUvn17TZ06NXhHBGG3fnr77beVn5+vpk2bKjMzU3l5efr4449D7I3qRaOv9u7dq/79+ysnJ0dpaWnKzc3VPffc4zmvt1xN/uy/+eYbXXLJJUpPT1dubq4ef/zxKmXeeustnXnmmUpPT9fZZ5+tDz/8MHhH2IFB2GbOnGlSU1PNK6+8YtauXWvuuOMO07BhQ7N7925Pmfz8fHP++eeb5cuXm8LCQvPoo48ap9NpVq1aFbDel19+2YwaNcosWrTIFBYWmtdff93UqVPHPP/8854yL7zwgqlfv76ZOXOmKSwsNDNmzDD16tUz//nPf6pt88iRI83f/vY3c8stt5iuXbtWef0vf/mLGTt2rPnss8/Mxo0bzTPPPGOcTqd5//33w++gk+zYT+WOHz9uzjvvPDNgwADToEGDkPskELv21ciRI03Hjh3Ne++9ZzZt2mRWrFhh5syZE17neLFjP23atMmkpaWZMWPGmI0bN5qVK1eaSy+91HTr1i38DvISb30VSr2bNm0yGRkZpqCgwKxbt848//zzJikpycyePZt+8qr3D3/4g3nsscfMF198YTZs2GDGjBljUlJSqm1vbfbVvn37zAsvvGC+/PJLs2XLFjNv3jzTsWNHc9NNN3nK1OTP/uDBg6Z58+Zm6NChZs2aNWbGjBmmTp065h//+IenzGeffWaSkpLM448/btatW2fGjh1rUlJSzLfffntKfRUPCIA1cMEFF5i7777b87ysrMzk5OSYiRMneq7VrVvXvPbaaz4/l5WVZf75z3+G9V533XWX6d27t+d5Xl6eue+++3zKFBQUmIsuuiik+saNG1dtsPE2cOBA85vf/CbktlZm53564IEHzM0332ymTJkSkQBox75at26dSU5ONt9//31Y7auOHfvprbfeMsnJyaasrMxz7T//+Y9xOBzm+PHjYbXZWzz3VaB6H3jgAdOlSxefMjfccIPp169fWPV6s2M/+dO5c2czfvz4sOqtLJZ99eyzz5qWLVt6ntfkz/6FF14wjRo1MiUlJZ5rDz74oOnYsaPn+fXXX2+uvPJKn5/r2bOnufPOO8NqbzxiCjhMx48f18qVK9WnTx/PNafTqT59+mjp0qWea7/4xS/05ptvat++fXK73Zo5c6aOHTumXr16hfV+Bw8eVFZWlud5SUmJ0tPTfcrUqVNHX3zxhVwuV80+VIjvHQ4799OCBQv01ltvafLkyadUTzm79tX777+v008/XbNmzVLbtm3Vpk0b3X777dq3b1+N6rNrP/Xo0UNOp1NTpkxRWVmZDh48qNdff119+vRRSkpKjeq0S19Vrnfp0qU+n0mS+vXr5/OZwmHXfqrM7Xbr0KFDNf7/cym2fbVjxw69/fbbuuyyyzzXavJnv3TpUl166aVKTU31+Zn169dr//79Na7XNmo7gcab7du3G0nm888/97l+//33mwsuuMDzfP/+/aZv375GkklOTjaZmZnm448/Duu9PvvsM5OcnOzzc2PGjDHZ2dlmxYoVxu12my+//NI0b97cSDI7duwIWmeoI4BvvvmmSU1NNWvWrAmrzeXs2k///e9/TW5urlm8eLExxkRkBNCufXXnnXeatLQ007NnT7NkyRKzcOFCc+655wYdqQjErv1kjDGLFi0yzZo1M0lJSUaSycvLM/v37w+rzd7iva8C1XvGGWeYv/71rz7lPvjgAyPJFBcXh9VuY+zbT5U99thjplGjRj5TteGKRV/deOONpk6dOkaSGTRokDl69KjntZr82efn55sRI0b4XFu7dq2RZNatW2eMMSYlJcVMnz7dp8zkyZNNs2bNQmpzPGMEMEoeeughHThwQPPmzdOKFStUUFCg66+/Xt9++60kacCAAapXr57q1aunLl26VPn5NWvW6Oqrr9a4cePUt29fn3oHDBigCy+8UCkpKbr66qs1fPhwSSf+NRYJCxcu1G9+8xv985//9Nu2SIq3frrjjjs0ZMgQXXrppTWuo6bira/cbrdKSkr02muv6ZJLLlGvXr308ssva+HChVq/fn2N6w0m3vpp165duuOOOzR8+HB9+eWXWrx4sVJTU3XdddfJRPmgJqv2VaB6a0s899P06dM1fvx4/etf/1KzZs1q8vHDcip99fTTT2vVqlV67733VFhYqIKCgqi3N6HVdgKNNyUlJSYpKcm88847PteHDRtmrrrqKmOMMRs3bjSSqoyeXXHFFZ77Cn766Sfzww8/mB9++MFs2bLFp9zatWtNs2bNzJ/+9KeA7Th+/LjZtm2bKS0t9dxI7H0PUSDBRgAXLVpk6tat63OTbE3YtZ8aNGhgkpKSPL+cTqeRZJKSkszLL78ctF5/7NpXDz/8sElOTva5VlxcbCTVaCGIXftp7Nix5rzzzvO5tm3bNiPJLF26NGi9/sRzX1VX7yWXXGL+8Ic/+Fx75ZVXTGZmZrV1BmLXfipXvuhh1qxZ1dYVilj0lbdPPvnEZyS0Jn/2t9xyi7n66qt9ri1YsMBIMvv27TPGGJObm2uefvppnzIPP/ywOeeccwLWaxeMAIYpNTVVPXr00Pz58z3X3G635s+fr7y8PElScXGxpKr/gktKSpLb7ZYknXbaaWrfvr3at2+v1q1be8qsXbtWvXv31vDhw6vdLiMlJUUtW7ZUUlKSZs6cqV/+8penPAK4aNEiXXnllXrsscc0YsSIU6rLrv20dOlSrV692vNrwoQJql+/vlavXq1f/epXNarTrn110UUXqbS0VIWFhZ5rGzZskCSf9oXKrv1UXFzst73ln68m4rWvgtWbl5fn85kkae7cuZ7PFC679pMkzZgxQ7/5zW80Y8YMXXnllUF6Irho91Vl5eVLSkok1ezPPi8vT0uWLPG5n3Lu3Lnq2LGjGjVqVON6baO2E2g8mjlzpklLSzNTp04169atMyNGjDANGzY0u3btMsac+Ndc+/btzSWXXGKWL19uNm7caJ544gnjcDjMBx98ELDeb7/91jRt2tTcfPPNZufOnZ5fe/bs8ZRZv369ef31182GDRvM8uXLzQ033GCysrLM5s2bq23zDz/8YL766itz5513mg4dOpivvvrKfPXVV57VUQsWLDAZGRlmzJgxPu+9d+9e+smrnyqL1CpgO/ZVWVmZ6d69u7n00kvNqlWrzIoVK0zPnj1Nfn4+/eTVT/PnzzcOh8OMHz/ebNiwwaxcudL069fPtG7dukb3tcVrX4VSb/lWIPfff7/57rvvzOTJkyOyDYzd+mnatGkmOTnZTJ482afMgQMHatxP0eyrDz74wLzyyivm22+/NZs3bzazZs0ynTp18lkNXZM/+wMHDpjmzZubW265xaxZs8bMnDnTZGRkVNkGJjk52TzxxBPmu+++M+PGjWMbGFTv+eefN61atTKpqanmggsuMMuWLfN5fcOGDebaa681zZo1MxkZGeacc86psjS+snHjxhlJVX61bt3aU2bdunXm3HPPNXXq1DGZmZnm6quvDmmbjcsuu8xv3eX/RzN8+HC/r1922WXhdo0Pu/VTZZEKgMbYs6+2b99urr32WlOvXj3TvHlzc+utt57SPyqMsWc/zZgxw3Tr1s3UrVvXNG3a1Fx11VXmu+++C6tf/ImnvgqlXmOMZzFRamqqOf30082UKVPC6RK/7NZPgb5zw4cPD7drqohGXy1YsMDk5eWZBg0amPT0dHPGGWeYBx98sMpCqJr82X/99dfm4osvNmlpaea0004zkyZNqlLmX//6l+nQoYNJTU01Xbp0qTas2onDmCjfZQwAAABL4R5AAACABEMABAAASDAEQAAAgARDAAQAAEgwBEAAAIAEQwAEAABIMARAAACABEMABAAASDAEQAC2sGjRIjkcDh04cKBW3n/+/Pnq1KmTysrKgpadPXu2zj333Bqf9QsAp4oACCDu9OrVS/fee6/PtV/84hfauXOnGjRoUCtteuCBBzR27FglJSUFLdu/f3+lpKRo2rRpMWgZAFRFAARgC6mpqcrOzpbD4Yj5e3/66acqLCzU4MGDQ/6ZW2+9Vc8991wUWwUAgREAAcSVW2+9VYsXL9azzz4rh8Mhh8OhLVu2VJkCnjp1qho2bKhZs2apY8eOysjI0HXXXafi4mK9+uqratOmjRo1aqRRo0b5TNuWlJTovvvu02mnnaa6deuqZ8+eWrRoUbVtmjlzpvLz85Wenu659vXXX6t3796qX7++MjMz1aNHD61YscLz+qBBg7RixQoVFhZGtH8AIBTJtd0AAAjHs88+qw0bNuiss87ShAkTJElNmzbVli1bqpQtLi7Wc889p5kzZ+rQoUO69tpr9atf/UoNGzbUhx9+qE2bNmnw4MG66KKLdMMNN0iS7rnnHq1bt04zZ85UTk6O3nnnHfXv31/ffvutzjjjDL9t+uSTTzRkyBCfa0OHDlW3bt304osvKikpSatXr1ZKSorn9VatWql58+b65JNP1K5duwj1DgCEhgAIIK40aNBAqampysjIUHZ2drVlXS6XXnzxRU/Auu666/T6669r9+7dqlevnjp37qzevXtr4cKFuuGGG7R161ZNmTJFW7duVU5OjiTpvvvu0+zZszVlyhT99a9/9fs+P/74o6d8ua1bt+r+++/XmWeeKUl+w2NOTo5+/PHHsPsAAE4VARCAbWVkZPiMrjVv3lxt2rRRvXr1fK7t2bNHkvTtt9+qrKxMHTp08KmnpKREjRs3Dvg+R48e9Zn+laSCggLdfvvtev3119WnTx/9+te/rjLSV6dOHRUXF9f48wFATREAAdiW95SrJDkcDr/XyrdjOXz4sJKSkrRy5coqq3m9Q2NlTZo00f79+32uPfLIIxoyZIg++OADffTRRxo3bpxmzpypX/3qV54y+/btU9OmTWv02QDgVBAAAcSd1NTUkPbbC1e3bt1UVlamPXv26JJLLgnr59atW1fleocOHdShQweNHj1aN910k6ZMmeIJgMeOHVNhYaG6desWsfYDQKhYBQwg7rRp00bLly/Xli1b9N///jdiGyp36NBBQ4cO1bBhw/T2229r8+bN+uKLLzRx4kR98MEHAX+uX79++vTTTz3Pjx49qnvuuUeLFi3Sjz/+qM8++0xffvmlOnXq5CmzbNkypaWlKS8vLyJtB4BwEAABxJ377rtPSUlJ6ty5s5o2baqtW7dGrO4pU6Zo2LBh+uMf/6iOHTvqmmuu0ZdffqlWrVoF/JmhQ4dq7dq1Wr9+vSQpKSlJe/fu1bBhw9ShQwddf/31GjBggMaPH+/5mRkzZmjo0KHKyMiIWNsBIFQOY4yp7UYAQLy7//77VVRUpH/84x9By/73v/9Vx44dtWLFCrVt2zYGrQMAX4wAAkAE/N//+3/VunXrkKajt2zZohdeeIHwB6DWMAIIAACQYBgBBAAASDAEQAAAgARDAAQAAEgwBEAAAIAEQwAEAABIMARAAACABEMABAAASDAEQAAAgARDAAQAAEgw/x+EGnVam0tHkAAAAABJRU5ErkJggg==' width=640.0/>\n",
       "            </div>\n",
       "        "
      ],
      "text/plain": [
       "Canvas(toolbar=Toolbar(toolitems=[('Home', 'Reset original view', 'home', 'home'), ('Back', 'Back to previous …"
      ]
     },
     "metadata": {},
     "output_type": "display_data"
    }
   ],
   "source": [
    "import matplotlib.pyplot as plt\n",
    "fig, ax = plt.subplots()\n",
    "ax.plot(*my_history)\n",
    "\n",
    "ax.set(xlabel='time (s)', ylabel='position',\n",
    "       title='mY history')\n",
    "ax.grid()\n",
    "\n",
    "plt.show()"
   ]
  },
  {
   "cell_type": "code",
   "execution_count": 7,
   "id": "d31605de-d865-4f2f-b7f9-6c066529b7da",
   "metadata": {},
   "outputs": [
    {
     "data": {
      "text/plain": [
       "'3631d5fa-3520-11ee-9b8a-fa163e943f63'"
      ]
     },
     "execution_count": 7,
     "metadata": {},
     "output_type": "execute_result"
    }
   ],
   "source": [
    "client.run(\"mY.move(40)\")"
   ]
  },
  {
   "cell_type": "code",
   "execution_count": 8,
   "id": "2f4c9223-5dcb-4eef-80a0-72f4ab718d9f",
   "metadata": {},
   "outputs": [
    {
     "data": {
      "text/plain": [
       "'36f812ec-3520-11ee-9b8a-fa163e943f63'"
      ]
     },
     "execution_count": 8,
     "metadata": {},
     "output_type": "execute_result"
    }
   ],
   "source": [
    "client.run(\"mY.read()\")"
   ]
  },
  {
   "cell_type": "code",
   "execution_count": 9,
   "id": "2af70cbf-5d73-494e-a855-4d9134172cc7",
   "metadata": {},
   "outputs": [
    {
     "data": {
      "text/plain": [
       "[('my/value', 40.0)]"
      ]
     },
     "execution_count": 9,
     "metadata": {},
     "output_type": "execute_result"
    }
   ],
   "source": [
    "client.ask(\"getcachekeys\", 'my/value')"
   ]
  },
  {
   "cell_type": "code",
   "execution_count": 10,
   "id": "6980edc0-656f-49f4-a1f1-e2ff8fc2f9e1",
   "metadata": {},
   "outputs": [
    {
     "data": {
      "text/plain": [
       "'mY.read()'"
      ]
     },
     "execution_count": 10,
     "metadata": {},
     "output_type": "execute_result"
    }
   ],
   "source": [
    "client.ask(\"getscript\")"
   ]
  },
  {
   "cell_type": "code",
   "execution_count": 12,
   "id": "18207aa3-b0f8-4148-98a5-87de0cf5a9c6",
   "metadata": {},
   "outputs": [
    {
     "ename": "KeyboardInterrupt",
     "evalue": "",
     "output_type": "error",
     "traceback": [
      "\u001b[0;31m---------------------------------------------------------------------------\u001b[0m",
      "\u001b[0;31mKeyboardInterrupt\u001b[0m                         Traceback (most recent call last)",
      "Cell \u001b[0;32mIn[12], line 6\u001b[0m\n\u001b[1;32m      1\u001b[0m \u001b[38;5;66;03m# dry run example\u001b[39;00m\n\u001b[1;32m      2\u001b[0m script \u001b[38;5;241m=\u001b[39m \u001b[38;5;124m\"\"\"\u001b[39m\n\u001b[1;32m      3\u001b[0m \u001b[38;5;124mprint(\u001b[39m\u001b[38;5;124m\"\u001b[39m\u001b[38;5;124mscript\u001b[39m\u001b[38;5;124m\"\u001b[39m\u001b[38;5;124m)\u001b[39m\n\u001b[1;32m      4\u001b[0m \u001b[38;5;124m\"\"\"\u001b[39m\n\u001b[0;32m----> 6\u001b[0m \u001b[43mclient\u001b[49m\u001b[38;5;241;43m.\u001b[39;49m\u001b[43mtell\u001b[49m\u001b[43m(\u001b[49m\u001b[38;5;124;43m\"\u001b[39;49m\u001b[38;5;124;43msimulate\u001b[39;49m\u001b[38;5;124;43m\"\u001b[39;49m\u001b[43m,\u001b[49m\u001b[43m \u001b[49m\u001b[38;5;124;43m'\u001b[39;49m\u001b[38;5;124;43m'\u001b[39;49m\u001b[43m,\u001b[49m\u001b[43m \u001b[49m\u001b[43mscript\u001b[49m\u001b[43m,\u001b[49m\u001b[43m \u001b[49m\u001b[38;5;241;43m0\u001b[39;49m\u001b[43m)\u001b[49m\n",
      "Cell \u001b[0;32mIn[2], line 42\u001b[0m, in \u001b[0;36mClient.tell\u001b[0;34m(self, command, *args)\u001b[0m\n\u001b[1;32m     41\u001b[0m \u001b[38;5;28;01mdef\u001b[39;00m \u001b[38;5;21mtell\u001b[39m(\u001b[38;5;28mself\u001b[39m, command, \u001b[38;5;241m*\u001b[39margs):\n\u001b[0;32m---> 42\u001b[0m     result \u001b[38;5;241m=\u001b[39m \u001b[38;5;28;43mself\u001b[39;49m\u001b[38;5;241;43m.\u001b[39;49m\u001b[43mask\u001b[49m\u001b[43m(\u001b[49m\u001b[43mcommand\u001b[49m\u001b[43m,\u001b[49m\u001b[43m \u001b[49m\u001b[38;5;241;43m*\u001b[39;49m\u001b[43margs\u001b[49m\u001b[43m)\u001b[49m\n\u001b[1;32m     43\u001b[0m     \u001b[38;5;28mprint\u001b[39m(\u001b[38;5;28mself\u001b[39m\u001b[38;5;241m.\u001b[39mask(\u001b[38;5;124m'\u001b[39m\u001b[38;5;124mgetmessages\u001b[39m\u001b[38;5;124m'\u001b[39m))\n\u001b[1;32m     44\u001b[0m     \u001b[38;5;28mprint\u001b[39m(result)\n",
      "Cell \u001b[0;32mIn[2], line 38\u001b[0m, in \u001b[0;36mClient.ask\u001b[0;34m(self, command, *args, **kwargs)\u001b[0m\n\u001b[1;32m     36\u001b[0m a \u001b[38;5;241m=\u001b[39m pickle\u001b[38;5;241m.\u001b[39mdumps(args, \u001b[38;5;241m2\u001b[39m)\n\u001b[1;32m     37\u001b[0m \u001b[38;5;28mself\u001b[39m\u001b[38;5;241m.\u001b[39m_socket\u001b[38;5;241m.\u001b[39msendall(ENQ \u001b[38;5;241m+\u001b[39m cmd \u001b[38;5;241m+\u001b[39m LENGTH\u001b[38;5;241m.\u001b[39mpack(\u001b[38;5;28mlen\u001b[39m(a)) \u001b[38;5;241m+\u001b[39m a)\n\u001b[0;32m---> 38\u001b[0m data \u001b[38;5;241m=\u001b[39m \u001b[38;5;28;43mself\u001b[39;49m\u001b[38;5;241;43m.\u001b[39;49m\u001b[43mrecv_reply\u001b[49m\u001b[43m(\u001b[49m\u001b[43m)\u001b[49m\n\u001b[1;32m     39\u001b[0m \u001b[38;5;28;01mreturn\u001b[39;00m pickle\u001b[38;5;241m.\u001b[39mloads(data, encoding\u001b[38;5;241m=\u001b[39m\u001b[38;5;124m'\u001b[39m\u001b[38;5;124mlatin1\u001b[39m\u001b[38;5;124m'\u001b[39m)\n",
      "Cell \u001b[0;32mIn[2], line 20\u001b[0m, in \u001b[0;36mClient.recv_reply\u001b[0;34m(self)\u001b[0m\n\u001b[1;32m     18\u001b[0m start \u001b[38;5;241m=\u001b[39m \u001b[38;5;124mb\u001b[39m\u001b[38;5;124m'\u001b[39m\u001b[38;5;124m'\u001b[39m\n\u001b[1;32m     19\u001b[0m \u001b[38;5;28;01mwhile\u001b[39;00m \u001b[38;5;28mlen\u001b[39m(start) \u001b[38;5;241m<\u001b[39m \u001b[38;5;241m5\u001b[39m:\n\u001b[0;32m---> 20\u001b[0m     data \u001b[38;5;241m=\u001b[39m \u001b[38;5;28;43mself\u001b[39;49m\u001b[38;5;241;43m.\u001b[39;49m\u001b[43m_socket\u001b[49m\u001b[38;5;241;43m.\u001b[39;49m\u001b[43mrecv\u001b[49m\u001b[43m(\u001b[49m\u001b[38;5;241;43m5\u001b[39;49m\u001b[43m \u001b[49m\u001b[38;5;241;43m-\u001b[39;49m\u001b[43m \u001b[49m\u001b[38;5;28;43mlen\u001b[39;49m\u001b[43m(\u001b[49m\u001b[43mstart\u001b[49m\u001b[43m)\u001b[49m\u001b[43m)\u001b[49m\n\u001b[1;32m     21\u001b[0m     start \u001b[38;5;241m+\u001b[39m\u001b[38;5;241m=\u001b[39m data\n\u001b[1;32m     22\u001b[0m \u001b[38;5;66;03m# it has a length...\u001b[39;00m\n",
      "\u001b[0;31mKeyboardInterrupt\u001b[0m: "
     ]
    }
   ],
   "source": [
    "# dry run example\n",
    "script = \"\"\"\n",
    "print(\"script\")\n",
    "\"\"\"\n",
    "\n",
    "client.tell(\"simulate\", '', script, 0)"
   ]
  },
  {
   "cell_type": "code",
   "execution_count": 4,
   "id": "2076b6c8-52d4-4d47-b1ac-d734139c5bb3",
   "metadata": {},
   "outputs": [
    {
     "data": {
      "text/plain": [
       "'eb79e910-3508-11ee-9554-fa163e943f63'"
      ]
     },
     "execution_count": 4,
     "metadata": {},
     "output_type": "execute_result"
    }
   ],
   "source": [
    "client.run(\"maw(mY, 50)\")"
   ]
  },
  {
   "cell_type": "code",
   "execution_count": null,
   "id": "11e59993-2dd9-4308-8d82-04de313afd09",
   "metadata": {},
   "outputs": [],
   "source": []
  }
 ],
 "metadata": {
  "kernelspec": {
   "display_name": "Python 3 (ipykernel)",
   "language": "python",
   "name": "python3"
  },
  "language_info": {
   "codemirror_mode": {
    "name": "ipython",
    "version": 3
   },
   "file_extension": ".py",
   "mimetype": "text/x-python",
   "name": "python",
   "nbconvert_exporter": "python",
   "pygments_lexer": "ipython3",
   "version": "3.9.16"
  }
 },
 "nbformat": 4,
 "nbformat_minor": 5
}
